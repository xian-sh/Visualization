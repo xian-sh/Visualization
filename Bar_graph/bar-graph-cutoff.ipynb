{
 "cells": [
  {
   "cell_type": "code",
   "execution_count": 1,
   "id": "d034b940",
   "metadata": {
    "execution": {
     "iopub.execute_input": "2023-06-20T16:22:02.900216Z",
     "iopub.status.busy": "2023-06-20T16:22:02.899849Z",
     "iopub.status.idle": "2023-06-20T16:22:16.799266Z",
     "shell.execute_reply": "2023-06-20T16:22:16.798205Z"
    },
    "papermill": {
     "duration": 13.906216,
     "end_time": "2023-06-20T16:22:16.802085",
     "exception": false,
     "start_time": "2023-06-20T16:22:02.895869",
     "status": "completed"
    },
    "tags": []
   },
   "outputs": [
    {
     "name": "stdout",
     "output_type": "stream",
     "text": [
      "Collecting brokenaxes\r\n",
      "  Downloading brokenaxes-0.5.0-py3-none-any.whl (6.6 kB)\r\n",
      "Requirement already satisfied: matplotlib>3.4 in /opt/conda/lib/python3.10/site-packages (from brokenaxes) (3.6.3)\r\n",
      "Requirement already satisfied: contourpy>=1.0.1 in /opt/conda/lib/python3.10/site-packages (from matplotlib>3.4->brokenaxes) (1.0.7)\r\n",
      "Requirement already satisfied: cycler>=0.10 in /opt/conda/lib/python3.10/site-packages (from matplotlib>3.4->brokenaxes) (0.11.0)\r\n",
      "Requirement already satisfied: fonttools>=4.22.0 in /opt/conda/lib/python3.10/site-packages (from matplotlib>3.4->brokenaxes) (4.39.3)\r\n",
      "Requirement already satisfied: kiwisolver>=1.0.1 in /opt/conda/lib/python3.10/site-packages (from matplotlib>3.4->brokenaxes) (1.4.4)\r\n",
      "Requirement already satisfied: numpy>=1.19 in /opt/conda/lib/python3.10/site-packages (from matplotlib>3.4->brokenaxes) (1.23.5)\r\n",
      "Requirement already satisfied: packaging>=20.0 in /opt/conda/lib/python3.10/site-packages (from matplotlib>3.4->brokenaxes) (21.3)\r\n",
      "Requirement already satisfied: pillow>=6.2.0 in /opt/conda/lib/python3.10/site-packages (from matplotlib>3.4->brokenaxes) (9.5.0)\r\n",
      "Requirement already satisfied: pyparsing>=2.2.1 in /opt/conda/lib/python3.10/site-packages (from matplotlib>3.4->brokenaxes) (3.0.9)\r\n",
      "Requirement already satisfied: python-dateutil>=2.7 in /opt/conda/lib/python3.10/site-packages (from matplotlib>3.4->brokenaxes) (2.8.2)\r\n",
      "Requirement already satisfied: six>=1.5 in /opt/conda/lib/python3.10/site-packages (from python-dateutil>=2.7->matplotlib>3.4->brokenaxes) (1.16.0)\r\n",
      "Installing collected packages: brokenaxes\r\n",
      "Successfully installed brokenaxes-0.5.0\r\n",
      "\u001b[33mWARNING: Running pip as the 'root' user can result in broken permissions and conflicting behaviour with the system package manager. It is recommended to use a virtual environment instead: https://pip.pypa.io/warnings/venv\u001b[0m\u001b[33m\r\n",
      "\u001b[0m"
     ]
    }
   ],
   "source": [
    "!pip install brokenaxes"
   ]
  },
  {
   "cell_type": "code",
   "execution_count": 2,
   "id": "40f4810f",
   "metadata": {
    "_cell_guid": "b1076dfc-b9ad-4769-8c92-a6c4dae69d19",
    "_uuid": "8f2839f25d086af736a60e9eeb907d3b93b6e0e5",
    "execution": {
     "iopub.execute_input": "2023-06-20T16:22:16.809026Z",
     "iopub.status.busy": "2023-06-20T16:22:16.808655Z",
     "iopub.status.idle": "2023-06-20T16:22:18.090583Z",
     "shell.execute_reply": "2023-06-20T16:22:18.089549Z"
    },
    "papermill": {
     "duration": 1.288143,
     "end_time": "2023-06-20T16:22:18.092987",
     "exception": false,
     "start_time": "2023-06-20T16:22:16.804844",
     "status": "completed"
    },
    "tags": []
   },
   "outputs": [
    {
     "data": {
      "image/png": "[encoded data removed]",
      "text/plain": [
       "<Figure size 640x480 with 5 Axes>"
      ]
     },
     "metadata": {},
     "output_type": "display_data"
    },
    {
     "data": {
      "text/plain": [
       "<Figure size 640x480 with 0 Axes>"
      ]
     },
     "metadata": {},
     "output_type": "display_data"
    }
   ],
   "source": [
    "import numpy as np\n",
    "import matplotlib.pyplot as plt\n",
    "import pandas as pd\n",
    "from brokenaxes import brokenaxes\n",
    "import warnings\n",
    "\n",
    "warnings.filterwarnings(\"ignore\")\n",
    "import os\n",
    "os.environ['TF_CPP_MIN_LOG_LEVEL']='2'\n",
    "\n",
    "\n",
    "# create data\n",
    "data = pd.DataFrame({\n",
    "    'Dataset': ['RAF', 'AffectNet7', 'AffectNet8', 'FERPlus'],\n",
    "    'ViT baseline Accuracy': [90.83, 65.79, 61.93, 89.23],\n",
    "    'PF-ViT Accuracy': [91.46, 66.01, 63.80, 90.83],\n",
    "    'ViT baseline Std': [0.25, 0.12, 0.29, 0.45],\n",
    "    'PF-ViT Std': [0.20, 0.28, 0.26, 0.13]\n",
    "})\n",
    "\n",
    "# create broken axes plot\n",
    "bax = brokenaxes(ylims=((0, 1), (60, 68), (87, 93), (99, 100)), hspace=0.05)\n",
    "\n",
    "# create bar plots\n",
    "x = np.array([0, 1, 2, 3])\n",
    "bax.bar(x-0.2, data['ViT baseline Accuracy'], width=0.4, color='lightblue', label='ViT baseline')\n",
    "bax.bar(x+0.2, data['PF-ViT Accuracy'], width=0.4, color='oldlace', label='PF-ViT')\n",
    "\n",
    "# create std lines\n",
    "bax.errorbar(x-0.2, data['ViT baseline Accuracy'], yerr=data['ViT baseline Std'], fmt='none',\n",
    "             color='black', alpha=1, elinewidth=1.5, capsize=3)\n",
    "bax.errorbar(x+0.2, data['PF-ViT Accuracy'], yerr=data['PF-ViT Std'], fmt='none',\n",
    "             color='black', alpha=1, elinewidth=1.5, capsize=3)\n",
    "\n",
    "# set axis labels and title\n",
    "bax.set_xlabel('Dataset', fontsize=12)\n",
    "bax.set_ylabel('Mean Accuracy', fontsize=12)\n",
    "bax.set_title('Model Performance', fontsize=14)\n",
    "\n",
    "# remove grid lines\n",
    "bax.grid(False)\n",
    "\n",
    "# set edge color and tick parameters\n",
    "\n",
    "bax.tick_params(axis='both', direction='in')\n",
    "\n",
    "# set x-tick labels\n",
    "x_ticks = np.arange(len(data['Dataset']) + 1)\n",
    "x_ticklabels = ['','RAF', 'AffectNet7', 'AffectNet8', 'FERPlus']\n",
    "bax.set_xticks(x_ticks)\n",
    "bax.set_xticklabels(x_ticklabels, rotation=0, fontsize=10)\n",
    "\n",
    "# set legend\n",
    "bax.legend(fontsize=10)\n",
    "\n",
    "# # add labels on bars\n",
    "# for i, v1, v2 in zip(x, data['ViT baseline Accuracy'], data['PF-ViT Accuracy']):\n",
    "#     bax.text(i-0.2, v1-0.05, str(v1), color='black', ha='center', fontsize=10)\n",
    "#     bax.text(i+0.2, v2-0.05, str(v2), color='black', ha='center', fontsize=10)\n",
    "\n",
    "# adjust figure size and resolution\n",
    "fig = plt.gcf()\n",
    "# fig.set_size_inches(15, 16)\n",
    "# fig.set_dpi(200)\n",
    "\n",
    "# show plot\n",
    "plt.show()\n",
    "\n",
    "\n",
    "plt.savefig('figure_mean.png', dpi=200)"
   ]
  }
 ],
 "metadata": {
  "kernelspec": {
   "display_name": "Python 3",
   "language": "python",
   "name": "python3"
  },
  "language_info": {
   "codemirror_mode": {
    "name": "ipython",
    "version": 3
   },
   "file_extension": ".py",
   "mimetype": "text/x-python",
   "name": "python",
   "nbconvert_exporter": "python",
   "pygments_lexer": "ipython3",
   "version": "3.10.10"
  },
  "papermill": {
   "default_parameters": {},
   "duration": 27.12522,
   "end_time": "2023-06-20T16:22:18.916512",
   "environment_variables": {},
   "exception": null,
   "input_path": "__notebook__.ipynb",
   "output_path": "__notebook__.ipynb",
   "parameters": {},
   "start_time": "2023-06-20T16:21:51.791292",
   "version": "2.4.0"
  }
 },
 "nbformat": 4,
 "nbformat_minor": 5
}
